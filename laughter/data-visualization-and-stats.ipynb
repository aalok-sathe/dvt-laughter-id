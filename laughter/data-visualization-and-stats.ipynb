{
 "cells": [
  {
   "cell_type": "markdown",
   "metadata": {},
   "source": [
    "### Friends canned laughter identification\n",
    "\n",
    "In this notebook, we will look at some of the annotated\n",
    "data from Friends and visualize it in basic ways like\n",
    "plotting histograms and computing basic stats about the data."
   ]
  },
  {
   "cell_type": "markdown",
   "metadata": {},
   "source": [
    "#### Preamble: imports"
   ]
  },
  {
   "cell_type": "code",
   "execution_count": null,
   "metadata": {},
   "outputs": [],
   "source": [
    "import sys\n",
    "sys.path.append('../utils/')"
   ]
  },
  {
   "cell_type": "code",
   "execution_count": null,
   "metadata": {},
   "outputs": [],
   "source": [
    "# local imports\n",
    "import utils\n",
    "import episode\n",
    "# stdlib and package imports\n",
    "import numpy as np\n",
    "from matplotlib import pyplot as plt"
   ]
  },
  {
   "cell_type": "markdown",
   "metadata": {},
   "source": [
    "#### Load annotations"
   ]
  },
  {
   "cell_type": "code",
   "execution_count": null,
   "metadata": {},
   "outputs": [],
   "source": [
    "# make a list to store all annotations that will be loaded\n",
    "annotations = []"
   ]
  },
  {
   "cell_type": "code",
   "execution_count": null,
   "metadata": {},
   "outputs": [],
   "source": [
    "# annotations are currently available for episodes 1--4\n",
    "for epnum in range(1, 5):\n",
    "    epname = 'friends-s02-e{:0>2d}'.format(epnum)\n",
    "    this_annotations = episode.load_annotations(epname)\n",
    "    annotations += this_annotations['laughter'] # pick only the annotations tagged 'laughter'"
   ]
  },
  {
   "cell_type": "markdown",
   "metadata": {},
   "source": [
    "#### Plot histograms\n",
    "\n",
    "1. Histogram of durations of laugh track patches\n",
    "2. Histogram of durations of non-laughter patches\n",
    "3. Overview of laugh track patches over the length of the episode"
   ]
  },
  {
   "cell_type": "code",
   "execution_count": null,
   "metadata": {},
   "outputs": [],
   "source": [
    "# a duration is simply the difference between end and start times for a patch\n",
    "durations = [(end-start)/1e3 for start, end in annotations]\n",
    "plt.hist(durations, bins=int(len(annotations)**.6), color='cyan')\n",
    "plt.show()"
   ]
  },
  {
   "cell_type": "code",
   "execution_count": null,
   "metadata": {},
   "outputs": [],
   "source": [
    "# a patch of non-laughter is the difference between the next start time and the previous end time\n",
    "nonpatches = [(s2-e1)/1e3 for (s1, e1), (s2, e2) in zip(annotations, annotations[1:]) if s2-e1 >= 0]\n",
    "plt.hist(nonpatches, bins=int(len(nonpatches)**.6), color='orange')\n",
    "plt.show()"
   ]
  },
  {
   "cell_type": "code",
   "execution_count": null,
   "metadata": {},
   "outputs": [],
   "source": [
    "# in this cell we sample times and plot if at that point there's canned laughter or not\n",
    "# for each episode, plot '1' when the time is in a laughter patch, '0' when not\n",
    "def get_patch_plot_data(annotations):\n",
    "    mintime = annotations[0][0]\n",
    "    maxtime = annotations[-1][1]\n",
    "    xvals = [[], []] # the ones\n",
    "    yvals = [[], []] # the zeros\n",
    "    for time in np.arange(mintime, maxtime, (maxtime-mintime)/5e2): # split into 500 equally spaced out sample points\n",
    "        neareststart = min(annotations, key=lambda patch: time - patch[0] + maxtime*int(time < patch[0]))\n",
    "        nearestend = min(annotations, key=lambda patch: time - patch[1] + maxtime*int(time < patch[1]))\n",
    "        if nearestend < neareststart: # happens when 'time' is inside a patch, so nearest end must be before nearest start\n",
    "            xvals[1] += [time/1e3]\n",
    "            yvals[1] += [1]\n",
    "        else:\n",
    "            xvals[0] += [time/1e3]\n",
    "            yvals[0] += [0]\n",
    "    return xvals, yvals, mintime, maxtime"
   ]
  },
  {
   "cell_type": "code",
   "execution_count": null,
   "metadata": {},
   "outputs": [],
   "source": [
    "for epname in ['friends-s02-e{:0>2d}'.format(i) for i in range(1, 5)] + ['friends-s03-e09']:\n",
    "    \n",
    "    this_annotations = episode.load_annotations(epname)['laughter']\n",
    "    xvals, yvals, mintime, maxtime = get_patch_plot_data(this_annotations)\n",
    "    \n",
    "    plt.figure(figsize=(16,.8))\n",
    "    plt.plot(xvals[1], yvals[1], 'b.', label='canned laughter')\n",
    "    plt.plot(xvals[0], yvals[0], 'r.', label='no canned laughs')\n",
    "    plt.axis([None, maxtime/1e3*1.2, -6, 6])\n",
    "    plt.legend()\n",
    "    plt.title(epname)\n",
    "    \n",
    "plt.show()"
   ]
  }
 ],
 "metadata": {
  "kernelspec": {
   "display_name": "Python 3",
   "language": "python",
   "name": "python3"
  },
  "language_info": {
   "codemirror_mode": {
    "name": "ipython",
    "version": 3
   },
   "file_extension": ".py",
   "mimetype": "text/x-python",
   "name": "python",
   "nbconvert_exporter": "python",
   "pygments_lexer": "ipython3",
   "version": "3.5.2"
  }
 },
 "nbformat": 4,
 "nbformat_minor": 2
}
