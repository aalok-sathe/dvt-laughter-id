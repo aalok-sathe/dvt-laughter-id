{
 "cells": [
  {
   "cell_type": "markdown",
   "metadata": {},
   "source": [
    "### Friends canned laughter identification\n",
    "\n",
    "In this notebook, we will try to use data from available friends\n",
    "episodes to try to train a model using VGGish"
   ]
  },
  {
   "cell_type": "code",
   "execution_count": null,
   "metadata": {},
   "outputs": [],
   "source": [
    "import sys\n",
    "sys.path.append('../utils/')"
   ]
  },
  {
   "cell_type": "code",
   "execution_count": null,
   "metadata": {},
   "outputs": [],
   "source": [
    "# local imports\n",
    "import utils\n",
    "import episode\n",
    "import color\n",
    "import stats\n",
    "# stdlib and package imports\n",
    "import numpy as np\n",
    "from pathlib import Path \n",
    "from matplotlib import pyplot as plt\n",
    "from collections import Counter\n",
    "# keras and ML imports\n",
    "from keras.models import Sequential, Model, model_from_yaml\n",
    "from keras.layers import Input, Dense, Dropout\n",
    "from sklearn.model_selection import train_test_split\n",
    "from sklearn.preprocessing import normalize as sknormalize\n",
    "from imblearn import under_sampling"
   ]
  },
  {
   "cell_type": "markdown",
   "metadata": {},
   "source": [
    "#### Extracting data segments\n",
    "Here we will extract labelled embeddings of wav data for each of the episodes"
   ]
  },
  {
   "cell_type": "code",
   "execution_count": null,
   "metadata": {},
   "outputs": [],
   "source": [
    "# these are the episodes we have annotation data for\n",
    "episodes = ['friends-s02-e{:0>2d}'.format(i) for i in range(1, 5)]"
   ]
  },
  {
   "cell_type": "code",
   "execution_count": null,
   "metadata": {},
   "outputs": [],
   "source": [
    "# use VGGish to generate embeddings for each of the episode, and split data into chunks of 0.96s (no preserve_length)\n",
    "# NOTE: run only if not run already\n",
    "archive = Path('../data/friends-s02-e{01..04}_datachunks.npz')\n",
    "if not archive.exists():\n",
    "    X_raw, Y_raw, refs = episode.get_data(which_episodes=episodes, use_vggish=True, preserve_length=False)"
   ]
  },
  {
   "cell_type": "code",
   "execution_count": null,
   "metadata": {},
   "outputs": [],
   "source": [
    "if not archive.exists():\n",
    "    color.INFO('INFO', 'archive file doesn\\'t exists; saving it')\n",
    "    np.savez_compressed(archive, X_raw=X_raw, Y_raw=Y_raw, refs=refs)\n",
    "color.INFO('INFO', 'loading data from numpy archive')\n",
    "arrays = np.load(archive)\n",
    "X_raw, Y_raw, refs = arrays['X_raw'], arrays['Y_raw'], arrays['refs']"
   ]
  },
  {
   "cell_type": "code",
   "execution_count": null,
   "metadata": {},
   "outputs": [],
   "source": [
    "X_raw.shape, Y_raw.shape, refs.shape"
   ]
  },
  {
   "cell_type": "code",
   "execution_count": null,
   "metadata": {},
   "outputs": [],
   "source": [
    "Y_raw[2310], refs[2310]"
   ]
  },
  {
   "cell_type": "markdown",
   "metadata": {},
   "source": [
    "#### Now we'll use the extracted data to generate balanced training and testing data sets"
   ]
  },
  {
   "cell_type": "markdown",
   "metadata": {},
   "source": [
    "First, resample data to have equal number of 'laugh' and 'no-laugh' examples"
   ]
  },
  {
   "cell_type": "code",
   "execution_count": null,
   "metadata": {},
   "outputs": [],
   "source": [
    "rus = under_sampling.RandomUnderSampler(sampling_strategy='not minority')\n",
    "X_res, Y_res = rus.fit_resample(X_raw, Y_raw)"
   ]
  },
  {
   "cell_type": "code",
   "execution_count": null,
   "metadata": {},
   "outputs": [],
   "source": [
    "# did the resampling work?\n",
    "Counter(Y_res)"
   ]
  },
  {
   "cell_type": "markdown",
   "metadata": {},
   "source": [
    "Next, split data into training and testing sets so it doesn't get mixed up"
   ]
  },
  {
   "cell_type": "code",
   "execution_count": null,
   "metadata": {},
   "outputs": [],
   "source": [
    "X_train, X_test, Y_train, Y_test = train_test_split(X_res, Y_res, test_size=0.25, random_state=1,\n",
    "                                                    stratify=Y_res.reshape(-1))"
   ]
  },
  {
   "cell_type": "code",
   "execution_count": null,
   "metadata": {},
   "outputs": [],
   "source": [
    "# check again: did the split go as expected?\n",
    "Counter(Y_train), Counter(Y_test)"
   ]
  },
  {
   "cell_type": "markdown",
   "metadata": {},
   "source": [
    "#### Now we'll attempt to model the balanced data using a Keras dense model"
   ]
  },
  {
   "cell_type": "code",
   "execution_count": null,
   "metadata": {},
   "outputs": [],
   "source": [
    "inp = Input(shape=(128,), name='in0')\n",
    "\n",
    "layer = Dense(16, activation='relu', name='d0')(inp)\n",
    "layer = Dropout(.4, name='dr0')(layer)\n",
    "\n",
    "layer = Dense(8, activation='relu', name='d1')(layer)\n",
    "layer = Dropout(.4, name='dr1')(layer)\n",
    "\n",
    "layer = Dense(1, activation='sigmoid', name='out')(layer)\n",
    "\n",
    "model = Model(inputs=[inp], outputs=[layer])\n",
    "model.compile(optimizer='rmsprop', loss='binary_crossentropy', metrics=['binary_accuracy'])\n",
    "\n",
    "model.summary()"
   ]
  },
  {
   "cell_type": "code",
   "execution_count": null,
   "metadata": {},
   "outputs": [],
   "source": [
    "# train model\n",
    "H = model.fit(X_train, Y_train.reshape(-1), epochs=32, validation_data=[X_test, Y_test.reshape(-1)])"
   ]
  },
  {
   "cell_type": "code",
   "execution_count": null,
   "metadata": {},
   "outputs": [],
   "source": [
    "# plot training history\n",
    "stats.plot_history(H)"
   ]
  },
  {
   "cell_type": "code",
   "execution_count": null,
   "metadata": {},
   "outputs": [],
   "source": [
    "# plot the ROC curve for this model and data\n",
    "stats.plot_roc_curve(model=model, x=X_test, y_true=Y_test.reshape(-1))"
   ]
  }
 ],
 "metadata": {
  "kernelspec": {
   "display_name": "Python 3",
   "language": "python",
   "name": "python3"
  },
  "language_info": {
   "codemirror_mode": {
    "name": "ipython",
    "version": 3
   },
   "file_extension": ".py",
   "mimetype": "text/x-python",
   "name": "python",
   "nbconvert_exporter": "python",
   "pygments_lexer": "ipython3",
   "version": "3.5.2"
  }
 },
 "nbformat": 4,
 "nbformat_minor": 2
}
