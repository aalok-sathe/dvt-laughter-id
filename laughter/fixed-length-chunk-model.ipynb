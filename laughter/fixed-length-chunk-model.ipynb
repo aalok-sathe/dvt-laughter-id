{
 "cells": [
  {
   "cell_type": "markdown",
   "metadata": {},
   "source": [
    "### Friends canned laughter identification\n",
    "\n",
    "In this notebook, we will try to use data from available friends\n",
    "episodes to try to train a model using VGGish"
   ]
  },
  {
   "cell_type": "code",
   "execution_count": null,
   "metadata": {},
   "outputs": [],
   "source": [
    "import sys\n",
    "sys.path.append('../utils/')"
   ]
  },
  {
   "cell_type": "code",
   "execution_count": null,
   "metadata": {},
   "outputs": [],
   "source": [
    "# local imports\n",
    "import utils\n",
    "import episode\n",
    "# stdlib and package imports\n",
    "import numpy as np\n",
    "from matplotlib import pyplot as plt\n",
    "# keras and ML imports\n",
    "from keras.models import Sequential, model_from_yaml\n",
    "from sklearn.model_selection import train_test_split\n",
    "from sklearn.preprocessing import normalize as sknormalize"
   ]
  },
  {
   "cell_type": "markdown",
   "metadata": {},
   "source": [
    "#### Extracting data segments\n",
    "Here we will extract labelled embeddings of wav data for each of the episodes"
   ]
  },
  {
   "cell_type": "code",
   "execution_count": null,
   "metadata": {},
   "outputs": [],
   "source": [
    "# these are the episodes we have annotation data for\n",
    "episodes = ['friends-s02-e{:0>2d}'.format(i) for i in range(1, 5)]"
   ]
  },
  {
   "cell_type": "code",
   "execution_count": null,
   "metadata": {},
   "outputs": [],
   "source": [
    "# use VGGish to generate embeddings for each of the episode, and split data into chunks of 0.96s (no preserve_length)\n",
    "X_raw, Y_raw, refs = episode.get_data(which_episodes=episodes, use_vggish=True, preserve_length=False)"
   ]
  },
  {
   "cell_type": "code",
   "execution_count": null,
   "metadata": {},
   "outputs": [],
   "source": [
    "X_raw.shape, Y_raw.shape, refs.shape"
   ]
  }
 ],
 "metadata": {
  "kernelspec": {
   "display_name": "Python 3",
   "language": "python",
   "name": "python3"
  },
  "language_info": {
   "codemirror_mode": {
    "name": "ipython",
    "version": 3
   },
   "file_extension": ".py",
   "mimetype": "text/x-python",
   "name": "python",
   "nbconvert_exporter": "python",
   "pygments_lexer": "ipython3",
   "version": "3.5.2"
  }
 },
 "nbformat": 4,
 "nbformat_minor": 2
}
