{
 "cells": [
  {
   "cell_type": "markdown",
   "metadata": {},
   "source": [
    "### Canned laughter identification using pre-trained models\n",
    "\n",
    "In this notebook, we will use model(s) trained on friends laughter data\n",
    "to detect laughter in any media file"
   ]
  },
  {
   "cell_type": "code",
   "execution_count": null,
   "metadata": {},
   "outputs": [],
   "source": [
    "import sys\n",
    "sys.path.append('../utils/')"
   ]
  },
  {
   "cell_type": "code",
   "execution_count": null,
   "metadata": {},
   "outputs": [],
   "source": [
    "# local imports\n",
    "import utils\n",
    "import episode\n",
    "import color\n",
    "import stats\n",
    "import modelbuilder\n",
    "# stdlib and package imports\n",
    "import pydub\n",
    "import numpy as np\n",
    "import pandas as pd\n",
    "from pathlib import Path \n",
    "from matplotlib import pyplot as plt\n",
    "import seaborn\n",
    "from collections import Counter\n",
    "# keras and ML imports\n",
    "from keras.models import Sequential, Model, model_from_yaml\n",
    "from keras.callbacks import ModelCheckpoint\n",
    "from keras.layers import Input, Dense, Dropout\n",
    "from sklearn.model_selection import train_test_split\n",
    "from sklearn.preprocessing import normalize as sknormalize\n",
    "from sklearn.metrics import confusion_matrix\n",
    "from imblearn import under_sampling\n",
    "from scipy.io import wavfile"
   ]
  },
  {
   "cell_type": "markdown",
   "metadata": {},
   "source": [
    "### Load an existing model"
   ]
  },
  {
   "cell_type": "code",
   "execution_count": null,
   "metadata": {},
   "outputs": [],
   "source": [
    "model = modelbuilder.build_laugh_model()\n",
    "model.load_weights(filepath='task:per-season-split-ckpt.hdf5')\n",
    "model = modelbuilder._compile_binary(model)"
   ]
  },
  {
   "cell_type": "markdown",
   "metadata": {},
   "source": [
    "### Mark an entire episode with labels"
   ]
  },
  {
   "cell_type": "code",
   "execution_count": null,
   "metadata": {},
   "outputs": [],
   "source": [
    "decoded, preds = episode.detect_in_episode(episode='friends-s03-e09', model=model, precision=2,\n",
    "                                           algorithms=['threshold', 'hmm'], params=dict(n=3, t=.6))"
   ]
  },
  {
   "cell_type": "code",
   "execution_count": null,
   "metadata": {},
   "outputs": [],
   "source": [
    "df = pd.DataFrame(decoded)"
   ]
  },
  {
   "cell_type": "code",
   "execution_count": null,
   "metadata": {},
   "outputs": [],
   "source": [
    "df['raw_preds'] = preds"
   ]
  },
  {
   "cell_type": "code",
   "execution_count": null,
   "metadata": {},
   "outputs": [],
   "source": [
    "annot = episode.load_annotations(episode='friends-s03-e09')['laughter']\n",
    "df['y_true_annot'] = df['timestamp'].apply(lambda t: episode._get_y_true_label(t, annot=annot))"
   ]
  },
  {
   "cell_type": "code",
   "execution_count": null,
   "metadata": {},
   "outputs": [],
   "source": [
    "df[df['timestamp'] >= 11000]"
   ]
  },
  {
   "cell_type": "code",
   "execution_count": null,
   "metadata": {},
   "outputs": [],
   "source": [
    "# do these algorithms even produce their own result (False = YES, they produce something different)\n",
    "all(df['hmm'] == df['raw_preds']), all(df['threshold'] == df['raw_preds'])"
   ]
  },
  {
   "cell_type": "code",
   "execution_count": null,
   "metadata": {},
   "outputs": [],
   "source": [
    "for w in range(20):\n",
    "    s = slice(w*100, (w+1)*100)\n",
    "    plt.figure(figsize=(18, 7))\n",
    "    plt.plot(df['timestamp'][s]/1e3, df['raw_preds'][s], 'bo-',\n",
    "             df['timestamp'][s]/1e3, df['y_true_annot'][s], 'ro-',\n",
    "             df['timestamp'][s]/1e3, df['hmm'][s]/.9, 'g.',\n",
    "             df['timestamp'][s]/1e3, (df['raw_preds'][s]>.5)/.95, 'c.')\n",
    "\n",
    "    plt.legend(['raw_preds', 'y_true', 'hmm_smoothing\\n(0 or 1)', 'pred>.5? (0 or 1)'],\n",
    "               loc='center left', bbox_to_anchor=(1, 0.5))\n",
    "    plt.title('visualization of predictions in window {} of width 100sec in s03e09'.format(w))\n",
    "    plt.show()"
   ]
  },
  {
   "cell_type": "markdown",
   "metadata": {},
   "source": [
    "### Trying to see if laughter and loudness are correlated in some way\n",
    "It appears that RMS doesn't provide a useful way to correlate them"
   ]
  },
  {
   "cell_type": "code",
   "execution_count": null,
   "metadata": {},
   "outputs": [],
   "source": [
    "aud = pydub.AudioSegment.from_file('../wav/friends-s03-e09.wav')"
   ]
  },
  {
   "cell_type": "code",
   "execution_count": null,
   "metadata": {},
   "outputs": [],
   "source": [
    "rms = [chunk.rms for chunk in aud[::int(.96e3/2)]][:-2]"
   ]
  },
  {
   "cell_type": "code",
   "execution_count": null,
   "metadata": {},
   "outputs": [],
   "source": [
    "df['loudness'] = rms"
   ]
  },
  {
   "cell_type": "code",
   "execution_count": null,
   "metadata": {},
   "outputs": [],
   "source": [
    "seaborn.heatmap(df[['loudness', 'raw_preds', 'hmm', 'threshold']][df['y_true_annot'] > 0].corr(), cmap='Reds')"
   ]
  }
 ],
 "metadata": {
  "kernelspec": {
   "display_name": "Python 3",
   "language": "python",
   "name": "python3"
  },
  "language_info": {
   "codemirror_mode": {
    "name": "ipython",
    "version": 3
   },
   "file_extension": ".py",
   "mimetype": "text/x-python",
   "name": "python",
   "nbconvert_exporter": "python",
   "pygments_lexer": "ipython3",
   "version": "3.5.2"
  }
 },
 "nbformat": 4,
 "nbformat_minor": 2
}
