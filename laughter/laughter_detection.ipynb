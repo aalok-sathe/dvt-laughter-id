{
 "cells": [
  {
   "cell_type": "markdown",
   "metadata": {},
   "source": [
    "### Canned laughter identification using pre-trained models\n",
    "\n",
    "In this notebook, we will use model(s) trained on friends laughter data\n",
    "to detect laughter in any media file"
   ]
  },
  {
   "cell_type": "code",
   "execution_count": null,
   "metadata": {},
   "outputs": [],
   "source": [
    "import sys\n",
    "sys.path.append('../utils/')"
   ]
  },
  {
   "cell_type": "code",
   "execution_count": null,
   "metadata": {},
   "outputs": [],
   "source": [
    "# local imports\n",
    "import utils\n",
    "import episode\n",
    "import color\n",
    "import stats\n",
    "import modelbuilder\n",
    "# stdlib and package imports\n",
    "import numpy as np\n",
    "import pandas as pd\n",
    "from pathlib import Path \n",
    "from matplotlib import pyplot as plt\n",
    "from collections import Counter\n",
    "# keras and ML imports\n",
    "from keras.models import Sequential, Model, model_from_yaml\n",
    "from keras.callbacks import ModelCheckpoint\n",
    "from keras.layers import Input, Dense, Dropout\n",
    "from sklearn.model_selection import train_test_split\n",
    "from sklearn.preprocessing import normalize as sknormalize\n",
    "from sklearn.metrics import confusion_matrix\n",
    "from imblearn import under_sampling"
   ]
  },
  {
   "cell_type": "markdown",
   "metadata": {},
   "source": [
    "### Load an existing model"
   ]
  },
  {
   "cell_type": "code",
   "execution_count": null,
   "metadata": {},
   "outputs": [],
   "source": [
    "model = modelbuilder.build_laugh_model()\n",
    "model.load_weights(filepath='task:per-season-split-ckpt.hdf5')\n",
    "model = modelbuilder._compile_binary(model)"
   ]
  },
  {
   "cell_type": "markdown",
   "metadata": {},
   "source": [
    "### Mark an entire episode with labels"
   ]
  },
  {
   "cell_type": "code",
   "execution_count": null,
   "metadata": {},
   "outputs": [],
   "source": [
    "decoded, preds = episode.detect_in_episode(episode='friends-s03-e09', model=model, precision=2,\n",
    "                                           algorithms=['threshold', 'hmm'], params=dict(n=3, t=.6))"
   ]
  },
  {
   "cell_type": "code",
   "execution_count": null,
   "metadata": {},
   "outputs": [],
   "source": [
    "df = pd.DataFrame(decoded)"
   ]
  },
  {
   "cell_type": "code",
   "execution_count": null,
   "metadata": {},
   "outputs": [],
   "source": [
    "annot = episode.load_annotations(episode='friends-s03-e09')['laughter']"
   ]
  },
  {
   "cell_type": "code",
   "execution_count": null,
   "metadata": {},
   "outputs": [],
   "source": [
    "def in_any_patch(time, annot=annot, precision=2):\n",
    "    for s, e in annot:\n",
    "        if s <= time < e or s <= (time+.96e3/precision) < e:\n",
    "            \n",
    "            if s <= time < e and s <= (time+.96e3/precision) < e:\n",
    "                return 1.\n",
    "            elif time < s and s <= time+.96e3/precision < e:\n",
    "                return (time+.96e3/precision-s) / (.96e3/precision)\n",
    "            else:\n",
    "                return (e-time) / (.96e3/precision)\n",
    "            \n",
    "    else:\n",
    "        return 0."
   ]
  },
  {
   "cell_type": "code",
   "execution_count": null,
   "metadata": {},
   "outputs": [],
   "source": [
    "df['raw_preds'] = preds"
   ]
  },
  {
   "cell_type": "code",
   "execution_count": null,
   "metadata": {},
   "outputs": [],
   "source": [
    "df['y_true_annot'] = df['timestamp'].apply(lambda t: in_any_patch(t))\n",
    "# df['positive_label'] = df[df['threshold'] == 1]['timestamp'].apply(lambda x: in_any_patch(x))\n",
    "# df['negative_label'] = df[df['threshold'] == 0]['timestamp'].apply(lambda x: not in_any_patch(x))"
   ]
  },
  {
   "cell_type": "code",
   "execution_count": null,
   "metadata": {},
   "outputs": [],
   "source": [
    "df[2900:]"
   ]
  },
  {
   "cell_type": "code",
   "execution_count": null,
   "metadata": {},
   "outputs": [],
   "source": [
    "# do these algorithms even produce their own result (False = YES, they produce something different)\n",
    "all(df['hmm'] == df['raw_preds']), all(df['threshold'] == df['raw_preds'])"
   ]
  },
  {
   "cell_type": "code",
   "execution_count": null,
   "metadata": {},
   "outputs": [],
   "source": [
    "for w in range(20):\n",
    "    s = slice(w*200, (w+1)*200)\n",
    "    plt.figure(figsize=(18, 7))\n",
    "    plt.plot(df['timestamp'][s]/1e3, df['raw_preds'][s], 'bo-',\n",
    "             df['timestamp'][s]/1e3, df['y_true_annot'][s], 'ro-',\n",
    "             df['timestamp'][s]/1e3, df['hmm'][s]/.9, 'g.',\n",
    "             df['timestamp'][s]/1e3, (df['raw_preds'][s]>.5)/.95, 'c.')\n",
    "\n",
    "    plt.legend(['raw_preds', 'y_true', 'hmm_smoothing\\n(0 or 1)', 'pred>.5? (0 or 1)'],\n",
    "               loc='center left', bbox_to_anchor=(1, 0.5))\n",
    "    plt.title('visualization of predictions in window {} of width 100sec in s03e09'.format(w))\n",
    "    plt.show()"
   ]
  }
 ],
 "metadata": {
  "kernelspec": {
   "display_name": "Python 3",
   "language": "python",
   "name": "python3"
  },
  "language_info": {
   "codemirror_mode": {
    "name": "ipython",
    "version": 3
   },
   "file_extension": ".py",
   "mimetype": "text/x-python",
   "name": "python",
   "nbconvert_exporter": "python",
   "pygments_lexer": "ipython3",
   "version": "3.5.2"
  }
 },
 "nbformat": 4,
 "nbformat_minor": 2
}
