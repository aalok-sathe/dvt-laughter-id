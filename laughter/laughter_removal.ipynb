{
 "cells": [
  {
   "cell_type": "markdown",
   "metadata": {},
   "source": [
    "### Canned laughter removal (and optionally, generation)\n",
    "We will use the model(s) developed in the other notebook that are able to tell laughter apart from everything else\n",
    "to detect laughter in an episode and rewrite it with something else"
   ]
  },
  {
   "cell_type": "code",
   "execution_count": null,
   "metadata": {},
   "outputs": [],
   "source": [
    "import sys\n",
    "sys.path.append('../utils/')"
   ]
  },
  {
   "cell_type": "code",
   "execution_count": null,
   "metadata": {},
   "outputs": [],
   "source": [
    "# local imports\n",
    "import utils\n",
    "import episode\n",
    "import color\n",
    "import stats\n",
    "import modelbuilder\n",
    "# stdlib imports\n",
    "from collections import defaultdict\n",
    "import numpy as np\n",
    "import pandas as pd\n",
    "from scipy.io import wavfile\n",
    "from pathlib import Path\n",
    "from matplotlib import pyplot as plt\n",
    "import pyaudio\n",
    "import pydub"
   ]
  },
  {
   "cell_type": "code",
   "execution_count": null,
   "metadata": {},
   "outputs": [],
   "source": [
    "weightspath = 'task:per-season-split-ckpt.hdf5'"
   ]
  },
  {
   "cell_type": "code",
   "execution_count": null,
   "metadata": {},
   "outputs": [],
   "source": [
    "model = modelbuilder.build_laugh_model()\n",
    "model.load_weights(weightspath)\n",
    "model = modelbuilder._compile_binary(model)"
   ]
  },
  {
   "cell_type": "code",
   "execution_count": null,
   "metadata": {},
   "outputs": [],
   "source": [
    "archived_episodes = ['friends-s02-e{:0>2d}'.format(i) for i in range(1, 5)] + ['friends-s03-e{:0>2d}'.format(9)]"
   ]
  },
  {
   "cell_type": "code",
   "execution_count": null,
   "metadata": {},
   "outputs": [],
   "source": [
    "for ep in archived_episodes:\n",
    "    wavaccum = defaultdict(list)\n",
    "    \n",
    "    decoded, preds = episode.detect_in_episode(ep, model, algorithms=['hmm'], precision=2)\n",
    "    sr, wavdata = wavfile.read('../wav/{}.wav'.format(ep))\n",
    "    patches = episode.discrete_to_chunks(decoded['hmm'])\n",
    "    \n",
    "    precision = 2\n",
    "    mult = .96 / precision * sr\n",
    "    for label in range(2):\n",
    "        for s, e in patches[label]:\n",
    "            start_f, end_f =  int(mult * s), int(mult * e)\n",
    "            this_chunk = wavdata[start_f:end_f]\n",
    "            wavaccum[label] += this_chunk.tolist()\n",
    "            \n",
    "    for label in range(2):\n",
    "        wavaccum[label] = np.array(wavaccum[label], dtype=wavdata.dtype)\n",
    "\n",
    "    wavfile.write(rate=sr, data=wavaccum[0], filename='../data/archive/{}_non-laugh-concat.wav'.format(ep))\n",
    "    wavfile.write(rate=sr, data=wavaccum[1], filename='../data/archive/{}_laugh-concat.wav'.format(ep))"
   ]
  },
  {
   "cell_type": "code",
   "execution_count": null,
   "metadata": {},
   "outputs": [],
   "source": [
    "raise NotImplementedError"
   ]
  },
  {
   "cell_type": "code",
   "execution_count": null,
   "metadata": {},
   "outputs": [],
   "source": [
    "p = pyaudio.PyAudio()\n",
    "stream = p.open(format = pyaudio.paInt16,\n",
    "                channels = 1,  \n",
    "                rate = sr,  \n",
    "                output = True)"
   ]
  },
  {
   "cell_type": "code",
   "execution_count": null,
   "metadata": {},
   "outputs": [],
   "source": [
    "aud = wavaccum[1][sr*160:sr*170]\n",
    "stream.write(aud)"
   ]
  },
  {
   "cell_type": "code",
   "execution_count": null,
   "metadata": {},
   "outputs": [],
   "source": [
    "raise NotImplementedError(NotImplemented)"
   ]
  },
  {
   "cell_type": "code",
   "execution_count": null,
   "metadata": {},
   "outputs": [],
   "source": [
    "for ep in archived_episodes:\n",
    "    decoded, preds = episode.detect_in_episode(ep, model, algorithms=['viterbi'], precision=2)\n",
    "    "
   ]
  },
  {
   "cell_type": "code",
   "execution_count": null,
   "metadata": {},
   "outputs": [],
   "source": []
  }
 ],
 "metadata": {
  "kernelspec": {
   "display_name": "Python 3",
   "language": "python",
   "name": "python3"
  },
  "language_info": {
   "codemirror_mode": {
    "name": "ipython",
    "version": 3
   },
   "file_extension": ".py",
   "mimetype": "text/x-python",
   "name": "python",
   "nbconvert_exporter": "python",
   "pygments_lexer": "ipython3",
   "version": "3.5.2"
  }
 },
 "nbformat": 4,
 "nbformat_minor": 2
}
