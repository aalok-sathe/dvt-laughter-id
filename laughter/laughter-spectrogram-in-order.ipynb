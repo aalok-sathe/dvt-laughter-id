{
 "cells": [
  {
   "cell_type": "markdown",
   "metadata": {},
   "source": [
    "Modules needed for this script (trying to keep as minimal as possible)."
   ]
  },
  {
   "cell_type": "code",
   "execution_count": null,
   "metadata": {},
   "outputs": [],
   "source": [
    "import numpy as np\n",
    "import sklearn.linear_model\n",
    "from matplotlib import pyplot as plt\n",
    "from scipy.io import wavfile\n",
    "from scipy import signal\n",
    "\n",
    "import yaml"
   ]
  },
  {
   "cell_type": "markdown",
   "metadata": {},
   "source": [
    "Load in the audio data and extract a spectrogram of the entire episode."
   ]
  },
  {
   "cell_type": "code",
   "execution_count": null,
   "metadata": {
    "scrolled": false
   },
   "outputs": [],
   "source": [
    "sr, wav = wavfile.read(\"../wav/friends-s03-e09.wav\")\n",
    "f, t, Sxx = signal.spectrogram(wav, sr, nperseg=256)"
   ]
  },
  {
   "cell_type": "markdown",
   "metadata": {},
   "source": [
    "Load the annotated laughted data as a numpy array (two columns;\n",
    "start and stop time in milliseconds). Create an array y_vals that\n",
    "give whether an intervals contains laughter (1) or not (0)."
   ]
  },
  {
   "cell_type": "code",
   "execution_count": null,
   "metadata": {},
   "outputs": [],
   "source": [
    "with open(\"../data/friends-s03-e09_laughter.yml\", 'r') as file:\n",
    "    laughter = np.array([[x, y] for x, y, _ in yaml.load(file)])\n",
    "    \n",
    "y_vals = np.zeros(t.shape)\n",
    "\n",
    "for interval in laughter / 1000:\n",
    "    y_vals = y_vals + np.int8((t >= interval[0]) & (t <= interval[1]))\n",
    "    \n",
    "assert np.max(y_vals) == 1"
   ]
  },
  {
   "cell_type": "markdown",
   "metadata": {},
   "source": [
    "Construct training data from the spectrogram and hand-labeled episode of laughter. Right\n",
    "now, using first half of the episode to train and second half to test."
   ]
  },
  {
   "cell_type": "code",
   "execution_count": null,
   "metadata": {},
   "outputs": [],
   "source": [
    "X = Sxx.transpose()\n",
    "y = y_vals\n",
    "\n",
    "X_train = X[1:int(X.shape[0] / 2), :]\n",
    "y_train = y[1:int(X.shape[0] / 2)]\n",
    "X_valid = X[int(X.shape[0] / 2):X.shape[0], :]\n",
    "y_valid = y[int(X.shape[0] / 2):X.shape[0]]"
   ]
  },
  {
   "cell_type": "markdown",
   "metadata": {},
   "source": [
    "Built an l1-penalized linear regression model with the training data. Report some\n",
    "common metrics on the output."
   ]
  },
  {
   "cell_type": "code",
   "execution_count": null,
   "metadata": {},
   "outputs": [],
   "source": [
    "model = sklearn.linear_model.LogisticRegression(penalty=\"l1\", C=0.01, solver='liblinear')\n",
    "model = model.fit(X_train[:, :], y_train)\n",
    "yhat_logit = model.predict_proba(X[:, :])[:,1]\n",
    "\n",
    "print(\"Model accuracy: {0:f}\".format(model.score(X_valid[:, :], y_valid)))\n",
    "print(\"Proportion of 1's in validation data: {0:f}\".format(np.mean(y_valid)))\n",
    "print(\"Proportion of 1's in validation pred: {0:f}\".format(np.mean(model.predict(X_valid[:, :]))))"
   ]
  },
  {
   "cell_type": "markdown",
   "metadata": {},
   "source": [
    "Create a function to plot the model output for a specific period of time in the show over\n",
    "the spectrogram."
   ]
  },
  {
   "cell_type": "code",
   "execution_count": null,
   "metadata": {},
   "outputs": [],
   "source": [
    "def plot_predictions(start, end, yhat, times, Sxx, f, size=1):\n",
    "    \"\"\"Plot predictions over spectrogram\n",
    "    \n",
    "    Args:\n",
    "        start: Start time in seconds\n",
    "        end: End time in seconds\n",
    "        yhat: Array of predicted probabilities.\n",
    "        times: Array of the time codes (ms).\n",
    "        Sxx: Spectrogram to plot.\n",
    "        f: Array of frequency codes.\n",
    "        size: Size of the smoothing window; set to 1 (default) for no smoothing.\n",
    "                    \n",
    "    Output:\n",
    "        Produces a plot with the spectrogram, the predicted probabilities\n",
    "        give as a red line, and the annotated laughter as a blue line. The\n",
    "        probability scale sets a probability of 1 to 20000 Hz.\n",
    "    \"\"\"\n",
    "\n",
    "    # construct the predicted values\n",
    "    tc = [start, end] * 1000 \n",
    "    index = np.argwhere((times > tc[0]) & (times <= tc[1]))\n",
    "    weights = [1 / size] * size\n",
    "    yhat_logit_smooth = np.convolve(yhat, np.array(weights)[::-1], 'same')\n",
    "    \n",
    "    # produce the plot\n",
    "    fig = plt.figure(figsize=(15,8))\n",
    "    plt.pcolormesh(times[index][:, 0], f, np.log10(1+Sxx[:, index][:, :, 0]))\n",
    "    plt.plot(times[index][:, 0], yhat_logit_smooth[index][:, 0] * 20000, 'r--')\n",
    "    plt.plot(times[index][:, 0], y[index][:, 0] * 20000, 'b--')\n",
    "    plt.ylabel('log Frequency [Hz]')\n",
    "    plt.xlabel('Time [sec]')"
   ]
  },
  {
   "cell_type": "markdown",
   "metadata": {},
   "source": [
    "Modify the function here to look at the model's performance."
   ]
  },
  {
   "cell_type": "code",
   "execution_count": null,
   "metadata": {},
   "outputs": [],
   "source": [
    "plot_predictions(300, 320, yhat_logit, t, Sxx, f, size=30)"
   ]
  },
  {
   "cell_type": "code",
   "execution_count": null,
   "metadata": {},
   "outputs": [],
   "source": []
  }
 ],
 "metadata": {
  "kernelspec": {
   "display_name": "Python 3",
   "language": "python",
   "name": "python3"
  },
  "language_info": {
   "codemirror_mode": {
    "name": "ipython",
    "version": 3
   },
   "file_extension": ".py",
   "mimetype": "text/x-python",
   "name": "python",
   "nbconvert_exporter": "python",
   "pygments_lexer": "ipython3",
   "version": "3.5.5"
  },
  "widgets": {
   "state": {},
   "version": "1.1.2"
  }
 },
 "nbformat": 4,
 "nbformat_minor": 2
}
